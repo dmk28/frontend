{
  "nbformat": 4,
  "nbformat_minor": 0,
  "metadata": {
    "colab": {
      "name": "modulo 1",
      "provenance": [],
      "collapsed_sections": [],
      "authorship_tag": "ABX9TyNyQWxH9r76nC8xyJNZp7SC",
      "include_colab_link": true
    },
    "kernelspec": {
      "name": "python3",
      "display_name": "Python 3"
    },
    "language_info": {
      "name": "python"
    }
  },
  "cells": [
    {
      "cell_type": "markdown",
      "metadata": {
        "id": "view-in-github",
        "colab_type": "text"
      },
      "source": [
        "<a href=\"https://colab.research.google.com/github/dmk28/frontend/blob/main/modulo_1.ipynb\" target=\"_parent\"><img src=\"https://colab.research.google.com/assets/colab-badge.svg\" alt=\"Open In Colab\"/></a>"
      ]
    },
    {
      "cell_type": "markdown",
      "source": [
        "# Modulo 1 - desafio!\n"
      ],
      "metadata": {
        "id": "diIxtKV8m-1n"
      }
    },
    {
      "cell_type": "code",
      "source": [
        "svv_19 = 153.98\n",
        "sqv_19 = 3\n",
        "\n",
        "tkt_19 = svv_19 / sqv_19\n",
        "print(tkt_19)\n",
        "\n",
        "svv_20 = 337.01\n",
        "sqv_20 = 7\n",
        "\n",
        "tkt_20 = svv_20 / sqv_20\n",
        "print(tkt_20)\n",
        "\n",
        "svv_23 = 295.33\n",
        "sqv_23 = 5\n",
        "\n",
        "tkt_23 = svv_23 / sqv_23\n",
        "print(tkt_23)\n",
        "\n",
        "tkt = (tkt_19 + tkt_20 + tkt_23) / 3\n",
        "print(tkt)\n"
      ],
      "metadata": {
        "colab": {
          "base_uri": "https://localhost:8080/"
        },
        "id": "ZlwbYnpbntCk",
        "outputId": "f94f7f6b-4a53-412d-c6ae-e35253dd1d61"
      },
      "execution_count": 36,
      "outputs": [
        {
          "output_type": "stream",
          "name": "stdout",
          "text": [
            "51.32666666666666\n",
            "48.144285714285715\n",
            "59.065999999999995\n",
            "52.8456507936508\n"
          ]
        }
      ]
    },
    {
      "cell_type": "code",
      "source": [
        "import numpy as np\n",
        "\n",
        "def ticketMedio(valorVendas, numerodeCompras):\n",
        "     valorVendas = [153.45, 337.01, 295.33]\n",
        "     numerodeCompras = [3, 7, 5]\n",
        "     dia = [\"19/01\", \"20/01\", \"23/01\"]\n",
        "    \n",
        "     for i in range (0, 3):\n",
        "      frequencia =  np.array(valorVendas) / np.array(numerodeCompras)\n",
        "      somaFrequencia = round((sum(frequencia) / 3), 2)\n",
        "      print(dia[i])\n",
        "      print(\"Valor das Vendas: \", valorVendas[i])\n",
        "      print(\"Número de compras: \", numerodeCompras[i])\n",
        "      \n",
        "     return somaFrequencia\n",
        "print(\"O tiquete medio dos dias 19, 20 e 23/01 é de\", ticketMedio(3,3))\n",
        "\n",
        "\n",
        "\n",
        "\n",
        "    "
      ],
      "metadata": {
        "colab": {
          "base_uri": "https://localhost:8080/"
        },
        "id": "apvHl-xwoEpN",
        "outputId": "e010b64b-b8c8-4bba-8dfa-7809d8ec0c83"
      },
      "execution_count": 47,
      "outputs": [
        {
          "output_type": "stream",
          "name": "stdout",
          "text": [
            "19/01\n",
            "Valor das Vendas:  153.45\n",
            "Número de compras:  3\n",
            "20/01\n",
            "Valor das Vendas:  337.01\n",
            "Número de compras:  7\n",
            "23/01\n",
            "Valor das Vendas:  295.33\n",
            "Número de compras:  5\n",
            "O tiquete medio dos dias 19, 20 e 23/01 é de 52.79\n"
          ]
        }
      ]
    },
    {
      "cell_type": "markdown",
      "source": [
        ""
      ],
      "metadata": {
        "id": "fhHkF-iJZkFs"
      }
    },
    {
      "cell_type": "code",
      "source": [
        ""
      ],
      "metadata": {
        "id": "Ytl-H8nQ7Dyn"
      },
      "execution_count": null,
      "outputs": []
    },
    {
      "cell_type": "markdown",
      "source": [
        ""
      ],
      "metadata": {
        "id": "4aMH0g-bZkWY"
      }
    },
    {
      "cell_type": "markdown",
      "source": [
        ""
      ],
      "metadata": {
        "id": "o1dJcg9cZkjM"
      }
    }
  ]
}